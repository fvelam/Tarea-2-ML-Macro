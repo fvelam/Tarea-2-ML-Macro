{
 "cells": [
  {
   "cell_type": "markdown",
   "metadata": {},
   "source": [
    "# Segundo Trabajo Práctico: Machine Learning para Macroeconomía 2025-01\n",
    "- Docente: Josué Cox (a20062953@pucp.edu.pe) \n",
    "\n",
    "- Fecha de Entrega: Hasta el miércoles 5 de febrero del 2025 a las 11:59 p.m. \n",
    "\n",
    "- Integrantes: Franco Vela, Paul Flores, Jhoany Rodríguez"
   ]
  },
  {
   "cell_type": "markdown",
   "metadata": {},
   "source": [
    "## Ejercicio 3: Estimando un modelo de nivel local\n",
    "Estime un modelo de nivel local para la inflación peruana para el \n",
    "periodo enero 2000 a diciembre 2019 (ver los datos en Inflacion_Peru.csv): \n",
    "1. Estime el modelo usando métodos frecuentistas (maximización de la \n",
    "verosimilitud) o bayesianos (simulación de la posterior mediante Gibbs \n",
    "sampling), escoja solo un método \n",
    "2. Muestre los gráficos de los estados estimados y las estimaciones de las \n",
    "varianzas."
   ]
  },
  {
   "cell_type": "markdown",
   "metadata": {},
   "source": [
    "## Ejercicio 4: Replicando resultado de Stock and Watson (2021)\n",
    "Usaremos los datos de desempleo, inflación y la tasa de \n",
    "interés para la economía norteamericana para el periodo 1960:Q1 – 2000:Q4. \n",
    "\n",
    "1. Estima el modelo VAR con 4 rezagos \n",
    "2. Utilice restricciones cero de corto plazo recursivas (Choleski) asumiendo \n",
    "que la inflación y el desempleo reaccionan con rezagos a la política \n",
    "monetaria. En particular asumimos que\n",
    "$$\n",
    "\\begin{bmatrix} \n",
    "\\pi_t \\\\ u_t \\\\ r_t \n",
    "\\end{bmatrix} \n",
    "= \\sum_{p=1}^{4} \\phi_p x_{t-p} + \n",
    "\\begin{bmatrix} \n",
    "b_{11} & 0 & 0 \\\\ \n",
    "b_{21} & b_{22} & 0 \\\\ \n",
    "b_{31} & b_{32} & b_{33} \n",
    "\\end{bmatrix} \n",
    "\\begin{bmatrix} \n",
    "\\epsilon_t^1 \\\\ \\epsilon_t^2 \\\\ \\epsilon_t^{MonPol} \n",
    "\\end{bmatrix}\n",
    "$$\n",
    "\n",
    "Donde 𝜋 es la tasa de inflación, 𝑢 es la tasa de desempleo y 𝑟 es la tasa \n",
    "de política monetaria. Produzca las funciones de impulso respuesta (FIR) \n",
    "para el shock de política monetaria sobre las tres variables endógenas. \n",
    "Muestre las FIR con los intervalos de confianza al 95% \n",
    "\n",
    "3. Produzca gráficos mostrando la descomposición del error de predicción para cada variable endógena \n",
    "4. Produzca gráficos mostrando la descomposición histórica para cada \n",
    "variable endógena"
   ]
  }
 ],
 "metadata": {
  "kernelspec": {
   "display_name": "base",
   "language": "python",
   "name": "python3"
  },
  "language_info": {
   "codemirror_mode": {
    "name": "ipython",
    "version": 3
   },
   "file_extension": ".py",
   "mimetype": "text/x-python",
   "name": "python",
   "nbconvert_exporter": "python",
   "pygments_lexer": "ipython3",
   "version": "3.9.12"
  }
 },
 "nbformat": 4,
 "nbformat_minor": 2
}
